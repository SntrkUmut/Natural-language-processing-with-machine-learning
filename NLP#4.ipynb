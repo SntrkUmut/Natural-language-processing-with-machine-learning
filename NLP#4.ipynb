{
 "cells": [
  {
   "cell_type": "code",
   "execution_count": 1,
   "id": "70a82b00",
   "metadata": {},
   "outputs": [],
   "source": [
    "with open(r\"C:\\Users\\umuts\\Desktop\\test.txt\",encoding=\"utf8\") as fh:\n",
    "    train_lines = fh.readlines()"
   ]
  },
  {
   "cell_type": "code",
   "execution_count": 2,
   "id": "d43c9690",
   "metadata": {},
   "outputs": [],
   "source": [
    "array_tutucu=[]\n",
    "t_tutucu=[]\n",
    "for asa in train_lines:\n",
    "    k=asa.split()\n",
    "    array_tutucu.append(k)\n",
    "for a in array_tutucu:\n",
    "    tu=tuple(a)\n",
    "    t_tutucu.append(tu)"
   ]
  },
  {
   "cell_type": "code",
   "execution_count": 3,
   "id": "6db98772",
   "metadata": {},
   "outputs": [
    {
     "name": "stdout",
     "output_type": "stream",
     "text": [
      "[[('Bunlar', 'O'), (',', 'O'), ('mücadelenin', 'O'), ('kesin', 'O'), ('galibini', 'O'), ('belirleyecek', 'O'), ('bir', 'O'), ('sayısal', 'O'), ('güce', 'O'), ('sahip', 'O'), ('bulunuyorlar', 'O')], [('Bugünkü', 'O'), ('mücadele', 'O'), (',', 'O'), ('Savaş', 'O'), ('sonrası', 'O'), ('Fedaral', 'B-LOCATION'), ('Almanya', 'I-LOCATION'), ('Cumhuriyeti', 'I-LOCATION'), (\"'\", 'O'), ('nin', 'O'), ('kuruluşundan', 'O'), ('bu', 'O'), ('yana', 'O'), ('14ncü', 'O'), (',', 'O'), ('iki', 'O'), ('Almanya', 'B-LOCATION'), (\"'\", 'O'), ('nın', 'O'), ('birlişmesinden', 'O'), ('sonra', 'O'), ('da', 'O'), ('3', 'O'), ('.', 'O'), ('ve', 'O'), ('20', 'O'), ('.', 'O'), ('yüzyılın', 'O'), ('son', 'O'), ('seçimi', 'O')], [('20', 'O'), ('.', 'O'), ('yüzyılın', 'O'), ('son', 'O'), ('genel', 'O'), ('seçimlerinde', 'O'), ('de', 'O'), ('daha', 'O'), ('önce', 'O'), ('olduğu', 'O'), ('gibi', 'O'), ('merkez', 'O'), ('sağın', 'O'), ('lokomotifi', 'O'), (\"'\", 'O'), ('Rekortmen', 'O'), ('Başbakan', 'O'), (\"'\", 'O'), ('Helmut', 'B-PERSON'), ('Kohl', 'I-PERSON'), ('ile', 'O'), ('16', 'O'), ('yıldır', 'O'), ('muhalefette', 'O'), ('olan', 'O'), ('Sosyal', 'O'), ('Demokratların', 'O'), ('başbakan', 'O'), ('adayı', 'O'), ('Gerhard', 'B-PERSON'), ('Schröder', 'I-PERSON'), ('mücadele', 'O'), ('edecek', 'O')], [('Fark', 'O'), ('çok', 'O'), ('az', 'O')], [('Şimdiye', 'O'), ('dek', 'O'), ('yapılan', 'O'), ('kamuoyu', 'O'), ('yoklamaları', 'O'), ('ve', 'O'), ('uzmanların', 'O'), ('görüşlerine', 'O'), ('göre', 'O'), (',', 'O'), ('yarınki', 'O'), ('seçimlerde', 'O'), ('iki', 'O'), ('taraf', 'O'), ('başabaş', 'O'), ('bir', 'O'), ('mücadele', 'O'), ('verecek', 'O')]]\n"
     ]
    }
   ],
   "source": [
    "c_tutucu=[]\n",
    "met_tutucu=[]\n",
    "for x in t_tutucu:\n",
    "    if len(x)==2:\n",
    "        c_tutucu.append(x)\n",
    "    elif len(x)<1:\n",
    "        met_tutucu.append(c_tutucu)\n",
    "        c_tutucu=[]\n",
    "\n",
    "print(met_tutucu[0:5])\n",
    "    "
   ]
  },
  {
   "cell_type": "code",
   "execution_count": 4,
   "id": "440d3dc7",
   "metadata": {},
   "outputs": [],
   "source": [
    "from itertools import chain\n",
    "\n",
    "import nltk\n",
    "import sklearn\n",
    "import scipy.stats\n",
    "\n",
    "import sklearn_crfsuite\n",
    "from sklearn_crfsuite import scorers,CRF\n",
    "from sklearn_crfsuite.metrics import flat_classification_report\n",
    "from sklearn_crfsuite import metrics"
   ]
  },
  {
   "cell_type": "code",
   "execution_count": 5,
   "id": "b62a737b",
   "metadata": {},
   "outputs": [],
   "source": [
    "# Feature set\n",
    "def word2features(sent, i):\n",
    "    word = sent[i][0]\n",
    "\n",
    "    features = {\n",
    "        'bias': 1.0,\n",
    "        'word.lower()': word.lower(),\n",
    "        'word[-3:]': word[-3:],\n",
    "        'word[-2:]': word[-2:],\n",
    "        'word.isupper()': word.isupper(),\n",
    "        'word.istitle()': word.istitle(),\n",
    "        'word.isdigit()': word.isdigit(),\n",
    "        \n",
    "       \n",
    "    }\n",
    "    if i > 0:\n",
    "        word1 = sent[i-1][0]\n",
    "        features.update({\n",
    "            '-1:word.lower()': word1.lower(),\n",
    "            '-1:word.istitle()': word1.istitle(),\n",
    "            '-1:word.isupper()': word1.isupper(),\n",
    "        })\n",
    "    else:\n",
    "        features['BOS'] = True\n",
    "\n",
    "    if i < len(sent)-1:\n",
    "        word1 = sent[i+1][0]\n",
    "        features.update({\n",
    "            '+1:word.lower()': word1.lower(),\n",
    "            '+1:word.istitle()': word1.istitle(),\n",
    "            '+1:word.isupper()': word1.isupper(),\n",
    "        })\n",
    "    else:\n",
    "        features['EOS'] = True\n",
    "\n",
    "    return features"
   ]
  },
  {
   "cell_type": "code",
   "execution_count": 6,
   "id": "9bccc9bc",
   "metadata": {},
   "outputs": [],
   "source": [
    "def sent2features(sent):\n",
    "    return [word2features(sent, i) for i in range(len(sent))]\n",
    "\n",
    "def sent2labels(sent):\n",
    "    return [label for token, label in sent]"
   ]
  },
  {
   "cell_type": "code",
   "execution_count": null,
   "id": "9bc9ce94",
   "metadata": {},
   "outputs": [],
   "source": [
    "#Creating the train and test set\n",
    "X = [sent2features(s) for s in met_tutucu]\n",
    "y = [sent2labels(s) for s in met_tutucu]"
   ]
  },
  {
   "cell_type": "code",
   "execution_count": 8,
   "id": "8323af07",
   "metadata": {},
   "outputs": [],
   "source": [
    "from sklearn.model_selection import cross_val_predict, cross_val_score\n",
    "\n",
    "#Creating the CRF model\n",
    "crf = CRF(algorithm='lbfgs',\n",
    "          c1=0.1,\n",
    "          c2=0.1,\n",
    "          max_iterations=100,\n",
    "          all_possible_transitions=False\n",
    "          )\n"
   ]
  },
  {
   "cell_type": "code",
   "execution_count": 9,
   "id": "3ef5ad18",
   "metadata": {
    "scrolled": true
   },
   "outputs": [
    {
     "name": "stderr",
     "output_type": "stream",
     "text": [
      "C:\\Users\\umuts\\AppData\\Roaming\\Python\\Python39\\site-packages\\sklearn\\base.py:193: FutureWarning: From version 0.24, get_params will raise an AttributeError if a parameter cannot be retrieved as an instance attribute. Previously it would return None.\n",
      "  warnings.warn('From version 0.24, get_params will raise an '\n",
      "<__array_function__ internals>:5: VisibleDeprecationWarning: Creating an ndarray from ragged nested sequences (which is a list-or-tuple of lists-or-tuples-or ndarrays with different lengths or shapes) is deprecated. If you meant to do this, you must specify 'dtype=object' when creating the ndarray.\n"
     ]
    },
    {
     "name": "stdout",
     "output_type": "stream",
     "text": [
      "                precision    recall  f1-score   support\n",
      "\n",
      "    B-LOCATION       0.88      0.75      0.81      1126\n",
      "B-ORGANIZATION       0.83      0.77      0.79       873\n",
      "      B-PERSON       0.82      0.71      0.76      1603\n",
      "    I-LOCATION       0.74      0.46      0.57       211\n",
      "I-ORGANIZATION       0.76      0.81      0.78       864\n",
      "      I-PERSON       0.82      0.90      0.85       803\n",
      "             O       0.98      0.99      0.99     44115\n",
      "\n",
      "      accuracy                           0.97     49595\n",
      "     macro avg       0.83      0.77      0.79     49595\n",
      "  weighted avg       0.96      0.97      0.96     49595\n",
      "\n"
     ]
    }
   ],
   "source": [
    "\n",
    "pred = cross_val_predict(estimator=crf, X=X, y=y, cv=5)\n",
    "report = flat_classification_report(y_pred=pred, y_true=y)\n",
    "print(report)"
   ]
  },
  {
   "cell_type": "code",
   "execution_count": 10,
   "id": "7c77cd22",
   "metadata": {},
   "outputs": [],
   "source": [
    "#Tuning the parameters manually, setting c1 = 10\n",
    "crf2 = CRF(algorithm='lbfgs',\n",
    "          c1=10,\n",
    "          c2=0.1,\n",
    "          max_iterations=100,\n",
    "          all_possible_transitions=False)"
   ]
  },
  {
   "cell_type": "code",
   "execution_count": 11,
   "id": "85914970",
   "metadata": {},
   "outputs": [
    {
     "name": "stdout",
     "output_type": "stream",
     "text": [
      "                precision    recall  f1-score   support\n",
      "\n",
      "    B-LOCATION       0.70      0.54      0.61      1126\n",
      "B-ORGANIZATION       0.61      0.46      0.53       873\n",
      "      B-PERSON       0.62      0.50      0.55      1603\n",
      "    I-LOCATION       0.15      0.05      0.08       211\n",
      "I-ORGANIZATION       0.47      0.57      0.52       864\n",
      "      I-PERSON       0.59      0.72      0.65       803\n",
      "             O       0.97      0.98      0.98     44115\n",
      "\n",
      "      accuracy                           0.93     49595\n",
      "     macro avg       0.59      0.55      0.56     49595\n",
      "  weighted avg       0.93      0.93      0.93     49595\n",
      "\n"
     ]
    }
   ],
   "source": [
    "pred = cross_val_predict(estimator=crf2, X=X, y=y, cv=5)\n",
    "report = flat_classification_report(y_pred=pred, y_true=y)\n",
    "print(report)"
   ]
  },
  {
   "cell_type": "code",
   "execution_count": 12,
   "id": "18921631",
   "metadata": {},
   "outputs": [],
   "source": [
    "with open(r\"C:\\Users\\umuts\\Desktop\\train.txt\",encoding=\"utf8\") as fh:\n",
    "    train_lines = fh.readlines()"
   ]
  },
  {
   "cell_type": "code",
   "execution_count": 13,
   "id": "a2fe0bb1",
   "metadata": {},
   "outputs": [],
   "source": [
    "array_tutucu=[]\n",
    "t_tutucu=[]\n",
    "for asa in train_lines:\n",
    "    k=asa.split()\n",
    "    array_tutucu.append(k)\n",
    "for a in array_tutucu:\n",
    "    tu=tuple(a)\n",
    "    t_tutucu.append(tu)"
   ]
  },
  {
   "cell_type": "code",
   "execution_count": 14,
   "id": "a8b2ed1b",
   "metadata": {},
   "outputs": [
    {
     "name": "stdout",
     "output_type": "stream",
     "text": [
      "[[('ATİLLA', 'B-PERSON'), ('Mutman', 'I-PERSON'), (',', 'O'), ('İzmir', 'B-LOCATION'), ('milletvekili', 'O')], [('Gecenin', 'O'), ('erken', 'O'), ('saatlerinde', 'O'), ('de', 'O'), (',', 'O'), ('belli', 'O'), ('olacak', 'O'), ('Avrupa', 'B-LOCATION'), (\"'\", 'O'), ('nın', 'O'), ('en', 'O'), ('büyük', 'O'), ('ülkesinin', 'O'), ('hükümetini', 'O'), ('kimin', 'O'), ('yöneteceği', 'O')], [('Bilgisayarlı', 'O'), ('telefon', 'O'), ('klübesi', 'O')], [('Kozmopolit', 'O'), ('bir', 'O'), ('ulus', 'O')], [('Yıllık', 'O'), ('10', 'O'), ('milyon', 'O'), ('ton', 'O'), ('kapasitesi', 'O'), ('bulunan', 'O'), ('limana', 'O'), ('150', 'O'), ('bin', 'O'), ('DWT', 'O'), ('tonluk', 'O'), ('gemiler', 'O'), ('yanaşabilecek', 'O')]]\n"
     ]
    }
   ],
   "source": [
    "c_tutucu=[]\n",
    "met_tutucu=[]\n",
    "for x in t_tutucu:\n",
    "    if len(x)==2:\n",
    "        c_tutucu.append(x)\n",
    "    elif len(x)<1:\n",
    "        met_tutucu.append(c_tutucu)\n",
    "        c_tutucu=[]\n",
    "\n",
    "print(met_tutucu[0:5])\n",
    "    "
   ]
  },
  {
   "cell_type": "code",
   "execution_count": 24,
   "id": "16706f46",
   "metadata": {},
   "outputs": [],
   "source": [
    "#Creating the train and test set\n",
    "X = [sent2features(s) for s in met_tutucu]\n",
    "y = [sent2labels(s) for s in met_tutucu]"
   ]
  },
  {
   "cell_type": "code",
   "execution_count": 25,
   "id": "b4483d27",
   "metadata": {},
   "outputs": [],
   "source": [
    "from sklearn.model_selection import cross_val_predict, cross_val_score\n",
    "\n",
    "#Creating the CRF model\n",
    "crf3 = CRF(algorithm='lbfgs',\n",
    "          c1=0.1,\n",
    "          c2=0.1,\n",
    "          max_iterations=100,\n",
    "          all_possible_transitions=False\n",
    "          )\n"
   ]
  },
  {
   "cell_type": "code",
   "execution_count": 26,
   "id": "72265956",
   "metadata": {},
   "outputs": [
    {
     "name": "stdout",
     "output_type": "stream",
     "text": [
      "                precision    recall  f1-score   support\n",
      "\n",
      "    B-LOCATION       0.95      0.91      0.93      8821\n",
      "B-ORGANIZATION       0.94      0.90      0.92      8316\n",
      "      B-PERSON       0.94      0.92      0.93     13290\n",
      "    I-LOCATION       0.85      0.77      0.81      1284\n",
      "I-ORGANIZATION       0.89      0.88      0.88      5860\n",
      "      I-PERSON       0.91      0.94      0.92      6314\n",
      "             O       0.99      1.00      0.99    376111\n",
      "\n",
      "      accuracy                           0.99    419996\n",
      "     macro avg       0.92      0.90      0.91    419996\n",
      "  weighted avg       0.99      0.99      0.99    419996\n",
      "\n"
     ]
    }
   ],
   "source": [
    "\n",
    "pred = cross_val_predict(estimator=crf3, X=X, y=y, cv=5)\n",
    "report = flat_classification_report(y_pred=pred, y_true=y)\n",
    "print(report)"
   ]
  },
  {
   "cell_type": "code",
   "execution_count": 27,
   "id": "13fc8830",
   "metadata": {},
   "outputs": [],
   "source": [
    "#Tuning the parameters manually, setting c1 = 10\n",
    "crf4 = CRF(algorithm='lbfgs',\n",
    "          c1=10,\n",
    "          c2=0.1,\n",
    "          max_iterations=100,\n",
    "          all_possible_transitions=False)"
   ]
  },
  {
   "cell_type": "code",
   "execution_count": 28,
   "id": "66a36f94",
   "metadata": {},
   "outputs": [
    {
     "name": "stdout",
     "output_type": "stream",
     "text": [
      "                precision    recall  f1-score   support\n",
      "\n",
      "    B-LOCATION       0.89      0.70      0.78      8821\n",
      "B-ORGANIZATION       0.84      0.75      0.79      8316\n",
      "      B-PERSON       0.79      0.77      0.78     13290\n",
      "    I-LOCATION       0.59      0.36      0.44      1284\n",
      "I-ORGANIZATION       0.70      0.71      0.70      5860\n",
      "      I-PERSON       0.74      0.86      0.80      6314\n",
      "             O       0.98      0.99      0.99    376111\n",
      "\n",
      "      accuracy                           0.96    419996\n",
      "     macro avg       0.79      0.73      0.76    419996\n",
      "  weighted avg       0.96      0.96      0.96    419996\n",
      "\n"
     ]
    }
   ],
   "source": [
    "pred = cross_val_predict(estimator=crf4, X=X, y=y, cv=5)\n",
    "report = flat_classification_report(y_pred=pred, y_true=y)\n",
    "print(report)"
   ]
  },
  {
   "cell_type": "code",
   "execution_count": 29,
   "id": "d7a3cce6",
   "metadata": {},
   "outputs": [],
   "source": [
    "with open(r\"C:\\Users\\umuts\\Desktop\\dev.txt\",encoding=\"utf8\") as fh:\n",
    "    train_lines = fh.readlines()"
   ]
  },
  {
   "cell_type": "code",
   "execution_count": 30,
   "id": "baaa0d08",
   "metadata": {},
   "outputs": [],
   "source": [
    "array_tutucu=[]\n",
    "t_tutucu=[]\n",
    "for asa in train_lines:\n",
    "    k=asa.split()\n",
    "    array_tutucu.append(k)\n",
    "for a in array_tutucu:\n",
    "    tu=tuple(a)\n",
    "    t_tutucu.append(tu)"
   ]
  },
  {
   "cell_type": "code",
   "execution_count": 31,
   "id": "8fe6847a",
   "metadata": {},
   "outputs": [
    {
     "name": "stdout",
     "output_type": "stream",
     "text": [
      "[[('Lav', 'O'), ('mermisinin', 'O'), ('sokak', 'O'), ('lambası', 'O'), ('direğine', 'O'), ('ve', 'O'), ('tabelaya', 'O'), ('çarptıktan', 'O'), ('sonra', 'O'), ('pencere', 'O'), ('pervazını', 'O'), ('parçalayarak', 'O'), ('birinci', 'O'), ('kat', 'O'), ('tavanına', 'O'), ('saplandığı', 'O'), ('belirlenirken', 'O'), (',', 'O'), ('Aksaray', 'B-ORGANIZATION'), ('Polis', 'I-ORGANIZATION'), ('Karakolu', 'I-ORGANIZATION'), ('olarak', 'O'), ('kullanılan', 'O'), ('birinci', 'O'), ('katta', 'O'), ('büyük', 'O'), ('çaplı', 'O'), ('hasar', 'O'), ('meydana', 'O'), ('geldi', 'O')], [('Başkan', 'O'), ('Yılmaz', 'B-PERSON'), (\"'\", 'O'), ('ın', 'O'), ('sürpriz', 'O'), ('kararla', 'O'), (',', 'O'), ('eski', 'O'), ('yöneticilerle', 'O'), ('bugün', 'O'), ('bir', 'O'), ('toplantı', 'O'), ('yapacağını', 'O'), ('açıklaması', 'O'), (',', 'O'), ('dikkatlerin', 'O'), ('Trabzonspor', 'B-ORGANIZATION'), (\"'\", 'O'), ('a', 'O'), ('çevrilmesine', 'O'), ('ve', 'O'), ('Fenerbahçe', 'B-ORGANIZATION'), ('maçı', 'O'), ('öncesi', 'O'), ('gündemi', 'O'), ('değiştirmesine', 'O'), ('neden', 'O'), ('oldu', 'O')], [('DYP', 'B-ORGANIZATION'), ('Genel', 'O'), ('Başkan', 'O'), ('Yardımcısı', 'O'), ('Mehmet', 'B-PERSON'), ('Gölhan', 'I-PERSON'), (',', 'O'), ('488', 'O'), ('milletvekilinin', 'O'), ('oyuyla', 'O'), ('18', 'O'), ('Nisan', 'O'), ('1999', 'O'), (\"'\", 'O'), ('da', 'O'), ('yapılması', 'O'), ('kabul', 'O'), ('edilen', 'O'), ('seçim', 'O'), ('tarihinin', 'O'), ('tartışma', 'O'), ('konusu', 'O'), ('yapılması', 'O'), ('veya', 'O'), ('genel', 'O'), ('seçimlerin', 'O'), ('ayrılmasının', 'O'), (',', 'O'), ('TBMM', 'B-ORGANIZATION'), (\"'\", 'O'), ('ye', 'O'), ('olan', 'O'), ('güveni', 'O'), ('sarsacağını', 'O'), ('söyledi', 'O')], [('Bu', 'O'), ('tutarsızlıklardan', 'O'), ('dolayı', 'O'), (',', 'O'), ('1', 'O'), ('milyar', 'O'), ('160', 'O'), ('milyon', 'O'), ('doları', 'O'), ('bulup', 'O'), ('bulamayacağı', 'O'), (',', 'O'), ('Petrol', 'B-ORGANIZATION'), ('Ofisi', 'I-ORGANIZATION'), ('işini', 'O'), ('gerçekten', 'O'), ('yapıp', 'O'), ('yapamayacağı', 'O'), ('belli', 'O'), ('olmadan', 'O'), ('ihalede', 'O'), ('birinci', 'O'), ('olan', 'O'), ('ve', 'O'), ('otomatikman', 'O'), ('işi', 'O'), ('\"', 'O'), ('hak', 'O'), ('eden', 'O'), ('\"', 'O'), ('Hayyam', 'B-PERSON'), ('Garipoğl', 'I-PERSON'), ('u', 'O'), ('da', 'O'), ('yargıya', 'O'), ('gitmek', 'O'), ('için', 'O'), ('kendisine', 'O'), ('gayet', 'O'), ('haklı', 'O'), ('bir', 'O'), ('\"', 'O'), ('hakk', 'O'), ('-', 'O'), ('ı', 'O'), ('müktesep', 'O'), ('\"', 'O'), ('yaratmıştır', 'O')], [('Bu', 'O'), ('tabii', 'O'), (',', 'O'), ('belirli', 'O'), ('bir', 'O'), ('takımın', 'O'), ('taraftarlarına', 'O'), ('özgü', 'O'), ('bir', 'O'), ('olay', 'O'), ('değil', 'O')]]\n"
     ]
    }
   ],
   "source": [
    "c_tutucu=[]\n",
    "met_tutucu=[]\n",
    "for x in t_tutucu:\n",
    "    if len(x)==2:\n",
    "        c_tutucu.append(x)\n",
    "    elif len(x)<1:\n",
    "        met_tutucu.append(c_tutucu)\n",
    "        c_tutucu=[]\n",
    "\n",
    "print(met_tutucu[0:5])\n",
    "    "
   ]
  },
  {
   "cell_type": "code",
   "execution_count": 32,
   "id": "9c589075",
   "metadata": {},
   "outputs": [],
   "source": [
    "#Creating the train and test set\n",
    "X = [sent2features(s) for s in met_tutucu]\n",
    "y = [sent2labels(s) for s in met_tutucu]"
   ]
  },
  {
   "cell_type": "code",
   "execution_count": 33,
   "id": "821af289",
   "metadata": {},
   "outputs": [],
   "source": [
    "from sklearn.model_selection import cross_val_predict, cross_val_score\n",
    "\n",
    "#Creating the CRF model\n",
    "crf5 = CRF(algorithm='lbfgs',\n",
    "          c1=0.1,\n",
    "          c2=0.1,\n",
    "          max_iterations=100,\n",
    "          all_possible_transitions=False\n",
    "          )\n"
   ]
  },
  {
   "cell_type": "code",
   "execution_count": 34,
   "id": "7d76d74d",
   "metadata": {},
   "outputs": [
    {
     "name": "stdout",
     "output_type": "stream",
     "text": [
      "                precision    recall  f1-score   support\n",
      "\n",
      "    B-LOCATION       0.90      0.76      0.83       942\n",
      "B-ORGANIZATION       0.84      0.76      0.80       842\n",
      "      B-PERSON       0.83      0.79      0.81      1400\n",
      "    I-LOCATION       0.78      0.44      0.56       107\n",
      "I-ORGANIZATION       0.73      0.71      0.72       589\n",
      "      I-PERSON       0.78      0.87      0.82       680\n",
      "             O       0.98      0.99      0.99     40972\n",
      "\n",
      "      accuracy                           0.97     45532\n",
      "     macro avg       0.83      0.76      0.79     45532\n",
      "  weighted avg       0.97      0.97      0.97     45532\n",
      "\n"
     ]
    }
   ],
   "source": [
    "\n",
    "pred = cross_val_predict(estimator=crf5, X=X, y=y, cv=5)\n",
    "report = flat_classification_report(y_pred=pred, y_true=y)\n",
    "print(report)"
   ]
  },
  {
   "cell_type": "code",
   "execution_count": 35,
   "id": "a82834bc",
   "metadata": {},
   "outputs": [],
   "source": [
    "#Tuning the parameters manually, setting c1 = 10\n",
    "crf6 = CRF(algorithm='lbfgs',\n",
    "          c1=10,\n",
    "          c2=0.1,\n",
    "          max_iterations=100,\n",
    "          all_possible_transitions=False)"
   ]
  },
  {
   "cell_type": "code",
   "execution_count": 36,
   "id": "35d20094",
   "metadata": {},
   "outputs": [
    {
     "name": "stdout",
     "output_type": "stream",
     "text": [
      "                precision    recall  f1-score   support\n",
      "\n",
      "    B-LOCATION       0.67      0.49      0.57       942\n",
      "B-ORGANIZATION       0.62      0.47      0.54       842\n",
      "      B-PERSON       0.58      0.49      0.53      1400\n",
      "    I-LOCATION       0.31      0.04      0.07       107\n",
      "I-ORGANIZATION       0.40      0.46      0.42       589\n",
      "      I-PERSON       0.54      0.73      0.62       680\n",
      "             O       0.97      0.98      0.98     40972\n",
      "\n",
      "      accuracy                           0.93     45532\n",
      "     macro avg       0.58      0.52      0.53     45532\n",
      "  weighted avg       0.93      0.93      0.93     45532\n",
      "\n"
     ]
    }
   ],
   "source": [
    "pred = cross_val_predict(estimator=crf6, X=X, y=y, cv=5)\n",
    "report = flat_classification_report(y_pred=pred, y_true=y)\n",
    "print(report)"
   ]
  },
  {
   "cell_type": "code",
   "execution_count": null,
   "id": "bb8cf046",
   "metadata": {},
   "outputs": [],
   "source": []
  }
 ],
 "metadata": {
  "kernelspec": {
   "display_name": "Python 3 (ipykernel)",
   "language": "python",
   "name": "python3"
  },
  "language_info": {
   "codemirror_mode": {
    "name": "ipython",
    "version": 3
   },
   "file_extension": ".py",
   "mimetype": "text/x-python",
   "name": "python",
   "nbconvert_exporter": "python",
   "pygments_lexer": "ipython3",
   "version": "3.9.7"
  }
 },
 "nbformat": 4,
 "nbformat_minor": 5
}
